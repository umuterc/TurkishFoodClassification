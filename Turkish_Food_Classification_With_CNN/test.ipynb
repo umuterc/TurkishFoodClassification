{
 "cells": [
  {
   "cell_type": "code",
   "execution_count": 2,
   "metadata": {},
   "outputs": [],
   "source": [
    "import tensorflow as tf\n",
    "import tensorflow.keras\n",
    "import numpy as np"
   ]
  },
  {
   "cell_type": "code",
   "execution_count": 11,
   "metadata": {},
   "outputs": [],
   "source": [
    "model=tf.keras.models.load_model(\"trained_models\Resnet101_best.h5\")"
   ]
  },
  {
   "cell_type": "code",
   "execution_count": 3,
   "metadata": {},
   "outputs": [],
   "source": [
    "class_names = np.loadtxt(\"labels.txt\",dtype=np.str)"
   ]
  },
  {
   "cell_type": "code",
   "execution_count": 16,
   "metadata": {},
   "outputs": [
    {
     "name": "stdout",
     "output_type": "stream",
     "text": [
      "manti\n",
      "mantar\n",
      "iskembe_corbasi\n"
     ]
    }
   ],
   "source": [
    "top_vals = 3 #it means code will give you top 3 prediction if you change it to 5 code will show you the top 5 predictions\n",
    "\n",
    "\n",
    "image=tf.keras.preprocessing.image.load_img(\"./Test_Pictures/manti.jpg\")\n",
    "input_arr = tf.keras.preprocessing.image.img_to_array(image)\n",
    "input_arr = np.array([input_arr])\n",
    "resize=tf.keras.layers.experimental.preprocessing.Resizing(299, 299, interpolation=\"bilinear\")(input_arr)\n",
    "\n",
    "\n",
    "predic = model.predict(resize,batch_size=1)\n",
    "\n",
    "\n",
    "results=np.flip(np.argsort(predic, axis=1)[:,-top_vals:][0])\n",
    "\n",
    "for i in results:\n",
    "    print(class_names[i])"
   ]
  }
 ],
 "metadata": {
  "kernelspec": {
   "display_name": "Python 3.6.10 64-bit ('myenv': conda)",
   "language": "python",
   "name": "python361064bitmyenvcondaf5af5cee0e56410a9ff2cf82e28365e4"
  },
  "language_info": {
   "codemirror_mode": {
    "name": "ipython",
    "version": 3
   },
   "file_extension": ".py",
   "mimetype": "text/x-python",
   "name": "python",
   "nbconvert_exporter": "python",
   "pygments_lexer": "ipython3",
   "version": "3.6.10"
  }
 },
 "nbformat": 4,
 "nbformat_minor": 4
}
