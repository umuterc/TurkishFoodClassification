{
 "cells": [
  {
   "cell_type": "code",
   "execution_count": null,
   "metadata": {},
   "outputs": [],
   "source": [
    "import os\n",
    "from PIL import Image"
   ]
  },
  {
   "cell_type": "code",
   "execution_count": null,
   "metadata": {},
   "outputs": [],
   "source": [
    "def rename_files(directory):\n",
    "    #renaming the image files, converting them to rgb format. If the images are not jpeg or png removing the image from directory.\n",
    "    default=100000000\n",
    "    for subdir, dirs, files in os.walk(directory):\n",
    "        for filename in files:\n",
    "            filepath = subdir + os.sep + filename\n",
    "            \n",
    "            if filepath.endswith(\".JPEG\") or filepath.endswith(\".jpg\") or filepath.endswith(\".png\"):\n",
    "                try:\n",
    "                    im1 = Image.open(filepath)\n",
    "                    rgb_im = im1.convert('RGB')\n",
    "                    rgb_im.save(fp=subdir + os.sep + str(default)+\".jpeg\", format=\"jpeg\")\n",
    "                    default+=1\n",
    "                except OSError:\n",
    "                    print(\"cannot convert\", filepath)\n",
    "                    \n",
    "                \"\"\"dst=subdir + os.sep + str(default) + \".JPEG\"\n",
    "                os.rename(filepath,dst)\n",
    "                default += 1\"\"\"\n",
    "            else:\n",
    "                os.remove(filepath)"
   ]
  },
  {
   "cell_type": "code",
   "execution_count": null,
   "metadata": {},
   "outputs": [],
   "source": [
    "def find_corrupted(directory):\n",
    "    #Finding the corrupted image files in the given directory\n",
    "    \n",
    "    for subdir, dirs, files in os.walk(directory):\n",
    "            for filename in files:\n",
    "                filepath = subdir + os.sep + filename\n",
    "                try:\n",
    "                    img = Image.open(filepath) # open the image file\n",
    "                    img.verify() # verify that it is, in fact an image\n",
    "                except (IOError, SyntaxError) as e:\n",
    "                    print('Bad file:', filename) # print out the names of corrupt files"
   ]
  },
  {
   "cell_type": "code",
   "execution_count": null,
   "metadata": {},
   "outputs": [],
   "source": [
    "def downgrade(limit,directory):\n",
    "    #!!!!CAUTION!!!!! THIS FUNCTION IS DIRECTLY ERASING THE IMAGES WHEN THE LIMIT IS EXCEEDED \n",
    "    #BEFORE USING THIS FUNCTION BE SURE THAT YOU COPIED YOUR DATA TO ANOTHER DIRECTORY\n",
    "    \n",
    "    #Downgrading the number of elements in directory(by erasing) to given limit.\n",
    "    for dirs in os.listdir(directory):\n",
    "        for i,file in enumerate(os.listdir(os.path.join(directory,dirs))):\n",
    "\n",
    "            if i>limit-1:\n",
    "                os.remove(os.path.join(directory,dirs,file))\n",
    "            \n",
    "        if i<limit-1:\n",
    "            print(\"Directory: \",dirs,\" have only \",i,\" elements\")"
   ]
  },
  {
   "cell_type": "code",
   "execution_count": null,
   "metadata": {},
   "outputs": [],
   "source": [
    "def delete_unjpeg(directory):\n",
    "    #deleting unjpeg files from the given directory\n",
    "    \n",
    "    for subdir, dirs, files in os.walk(directory):\n",
    "            for filename in files:\n",
    "                filepath = subdir + os.sep + filename\n",
    "\n",
    "                if not filepath.endswith(\".jpeg\"):\n",
    "                    try:\n",
    "                        os.remove(filepath)\n",
    "                        print(\"DELETED: \",filepath)\n",
    "                    except OSError:\n",
    "                        print(\"cannot delete\", filepath)\n",
    "                    "
   ]
  },
  {
   "cell_type": "code",
   "execution_count": null,
   "metadata": {},
   "outputs": [],
   "source": [
    "def labels_txt(dir):\n",
    "    #creates labels.txt file \n",
    "    dirs=[]\n",
    "    \n",
    "    #note to myself code try catch block here.and make txt file name more flexible\n",
    "    for _dir in os.listdir(directory):\n",
    "        dirs.append(_dir)\n",
    "\n",
    "    with open('labels.txt', 'a') as f:\n",
    "        for item in dirs:\n",
    "            f.write(\"%s\\n\" % item)\n"
   ]
  }
 ],
 "metadata": {
  "kernelspec": {
   "display_name": "Python 3.6.10 64-bit ('myenv': conda)",
   "language": "python",
   "name": "python361064bitmyenvcondaf5af5cee0e56410a9ff2cf82e28365e4"
  },
  "language_info": {
   "codemirror_mode": {
    "name": "ipython",
    "version": 3
   },
   "file_extension": ".py",
   "mimetype": "text/x-python",
   "name": "python",
   "nbconvert_exporter": "python",
   "pygments_lexer": "ipython3",
   "version": "3.6.10"
  }
 },
 "nbformat": 4,
 "nbformat_minor": 4
}
