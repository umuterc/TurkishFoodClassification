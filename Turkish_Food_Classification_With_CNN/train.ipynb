{
 "cells": [
  {
   "cell_type": "code",
   "execution_count": 2,
   "metadata": {},
   "outputs": [],
   "source": [
    "import numpy as np\n",
    "import PIL\n",
    "import PIL.Image\n",
    "import tensorflow as tf\n",
    "from tensorflow import keras\n",
    "from tensorflow.keras import layers\n",
    "from tensorflow.keras.layers.experimental.preprocessing import Rescaling\n",
    "from tensorflow.keras.applications import ResNet101V2\n",
    "from tensorflow.keras.applications.resnet_v2 import preprocess_input\n",
    "import tensorflow.keras.backend as K\n",
    "import tensorboard\n"
   ]
  },
  {
   "cell_type": "code",
   "execution_count": null,
   "metadata": {},
   "outputs": [],
   "source": [
    "directory='Turkish_Food_404'"
   ]
  },
  {
   "cell_type": "code",
   "execution_count": null,
   "metadata": {},
   "outputs": [],
   "source": [
    "batch_size= 128\n",
    "img_height = 299\n",
    "img_width = 299"
   ]
  },
  {
   "cell_type": "code",
   "execution_count": null,
   "metadata": {},
   "outputs": [],
   "source": [
    "train_ds=tf.keras.preprocessing.image_dataset_from_directory(\n",
    "    directory,\n",
    "    labels=\"inferred\",\n",
    "    label_mode='categorical',\n",
    "    batch_size=batch_size,\n",
    "    image_size=(img_height,img_width),\n",
    "    validation_split=0.2,\n",
    "    seed=0,\n",
    "    subset=\"training\",\n",
    "    interpolation=\"bilinear\",\n",
    ")"
   ]
  },
  {
   "cell_type": "code",
   "execution_count": null,
   "metadata": {},
   "outputs": [],
   "source": [
    "val_ds=tf.keras.preprocessing.image_dataset_from_directory(\n",
    "    directory,\n",
    "    labels=\"inferred\",\n",
    "    label_mode='categorical',\n",
    "    batch_size=batch_size,\n",
    "    image_size=(img_height,img_width),\n",
    "    validation_split=0.2,\n",
    "    seed=0,\n",
    "    subset=\"validation\",\n",
    "    interpolation=\"bilinear\"\n",
    ")"
   ]
  },
  {
   "cell_type": "code",
   "execution_count": null,
   "metadata": {
    "scrolled": true
   },
   "outputs": [],
   "source": [
    "import matplotlib.pyplot as plt\n",
    "\n",
    "class_names=train_ds.class_names\n",
    "\n",
    "plt.figure(figsize=(10, 10))\n",
    "for images, labels in train_ds.take(1):\n",
    "    for i in range(9):\n",
    "        ax = plt.subplot(3, 3, i + 1)\n",
    "        plt.imshow(images[i].numpy().astype(\"uint8\"))\n",
    "        plt.title(class_names[np.argmax(labels, axis=-1)[i]])\n",
    "        plt.axis(\"off\")"
   ]
  },
  {
   "cell_type": "code",
   "execution_count": null,
   "metadata": {},
   "outputs": [],
   "source": [
    "data_augmentation = keras.Sequential(\n",
    "    [\n",
    "        keras.layers.experimental.preprocessing.RandomFlip(\"horizontal\"),\n",
    "        keras.layers.experimental.preprocessing.RandomRotation(0.3),\n",
    "        keras.layers.experimental.preprocessing.RandomZoom(0.3),\n",
    "    ]\n",
    "    \n",
    ")"
   ]
  },
  {
   "cell_type": "code",
   "execution_count": null,
   "metadata": {},
   "outputs": [],
   "source": [
    "K.clear_session()\n",
    "\n",
    "inputs = layers.Input(shape=(img_height,img_width, 3))\n",
    "x = data_augmentation(inputs)\n",
    "x = tf.cast(x, tf.float32)\n",
    "#preprocess data for ResNetV2\n",
    "x = preprocess_input(x)\n",
    "\n",
    "#getting pretrained model\n",
    "base_model = ResNet101V2(weights=\"imagenet\" ,include_top=False, input_tensor=inputs)\n",
    "b_model = base_model(x)\n",
    "\n",
    "\n",
    "x = layers.GlobalAveragePooling2D()(b_model)\n",
    "x = layers.BatchNormalization()(x)\n",
    "outputs = layers.Dense(93, activation='softmax',use_bias=True , kernel_initializer=\"random_normal\",bias_initializer=\"zeros\")(x)\n",
    "model= keras.Model(inputs=inputs,outputs=outputs)\n",
    "\n",
    "for layer in base_model.layers:\n",
    "    layer.trainable = False\n"
   ]
  },
  {
   "cell_type": "code",
   "execution_count": null,
   "metadata": {
    "scrolled": true
   },
   "outputs": [],
   "source": [
    "model.summary()"
   ]
  },
  {
   "cell_type": "code",
   "execution_count": null,
   "metadata": {},
   "outputs": [],
   "source": [
    "opt = keras.optimizers.RMSprop(learning_rate=0.000001,momentum=0.9)\n",
    "\n",
    "model.compile(\n",
    "    optimizer=opt,  # Optimizer\n",
    "    # Loss function to minimize\n",
    "    loss=keras.losses.CategoricalCrossentropy(from_logits=True),\n",
    "    # List of metrics to monitor\n",
    "    metrics=[\"accuracy\",\"top_k_categorical_accuracy\"],\n",
    ")"
   ]
  },
  {
   "cell_type": "code",
   "execution_count": null,
   "metadata": {},
   "outputs": [],
   "source": [
    "epochs=30\n",
    "\n",
    "\n",
    "history = model.fit(\n",
    "    train_ds,\n",
    "    validation_data=val_ds,\n",
    "    epochs=epochs,\n",
    ")"
   ]
  },
  {
   "cell_type": "code",
   "execution_count": 3,
   "metadata": {},
   "outputs": [],
   "source": [
    "#if you want to use trained model\n",
    "\n",
    "model= keras.models.load_model(\"trained_models/Resnet101_best.h5\")"
   ]
  },
  {
   "cell_type": "code",
   "execution_count": null,
   "metadata": {},
   "outputs": [],
   "source": [
    "model.evaluate(val_ds)"
   ]
  },
  {
   "cell_type": "code",
   "execution_count": null,
   "metadata": {},
   "outputs": [],
   "source": [
    "top_vals = 3 #it means code will give you top 3 prediction if you change it to 5 code will show you the top 5 predictions\n",
    "\n",
    "\n",
    "image=tf.keras.preprocessing.image.load_img(\"./Test_Pictures/manti.jpg\")\n",
    "input_arr = keras.preprocessing.image.img_to_array(image)\n",
    "input_arr = np.array([input_arr])\n",
    "resize=tf.keras.layers.experimental.preprocessing.Resizing(299, 299, interpolation=\"bilinear\")(input_arr)\n",
    "\n",
    "\n",
    "predic = model.predict(resize,batch_size=1)\n",
    "\n",
    "class_names=val_ds.class_names\n",
    "\n",
    "\n",
    "results=np.flip(np.argsort(predic, axis=1)[:,-top_vals:][0])\n",
    "\n",
    "for i in results:\n",
    "    print(class_names[i])\n"
   ]
  },
  {
   "cell_type": "code",
   "execution_count": null,
   "metadata": {},
   "outputs": [],
   "source": [
    "#del model"
   ]
  },
  {
   "cell_type": "code",
   "execution_count": null,
   "metadata": {},
   "outputs": [],
   "source": [
    "#from tensorflow.python.client import device_lib\n",
    "#print(device_lib.list_local_devices())"
   ]
  },
  {
   "cell_type": "code",
   "execution_count": null,
   "metadata": {},
   "outputs": [],
   "source": [
    "#tf.config.experimental.list_physical_devices('GPU')"
   ]
  },
  {
   "cell_type": "code",
   "execution_count": null,
   "metadata": {},
   "outputs": [],
   "source": [
    "#tf.test.is_gpu_available()"
   ]
  }
 ],
 "metadata": {
  "kernelspec": {
   "display_name": "Python 3.6.10 64-bit ('myenv': conda)",
   "language": "python",
   "name": "python361064bitmyenvcondaf5af5cee0e56410a9ff2cf82e28365e4"
  },
  "language_info": {
   "codemirror_mode": {
    "name": "ipython",
    "version": 3
   },
   "file_extension": ".py",
   "mimetype": "text/x-python",
   "name": "python",
   "nbconvert_exporter": "python",
   "pygments_lexer": "ipython3",
   "version": "3.6.10"
  }
 },
 "nbformat": 4,
 "nbformat_minor": 4
}
